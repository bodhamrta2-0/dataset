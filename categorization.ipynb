{
 "cells": [
  {
   "cell_type": "code",
   "execution_count": 8,
   "metadata": {},
   "outputs": [
    {
     "name": "stdout",
     "output_type": "stream",
     "text": [
      "ordered something from amazon => Shopping\n",
      "recharged my phone => Utilities\n",
      "watched something on disney+ => Entertainment\n",
      "refilled petrol  => Fuel\n",
      "bought eggs => Groceries\n",
      "invested in stocks => others\n",
      "paid car insurance => others\n"
     ]
    }
   ],
   "source": [
    "import pandas as pd\n",
    "from sklearn.feature_extraction.text import TfidfVectorizer\n",
    "from sklearn.neighbors import KNeighborsClassifier\n",
    "\n",
    "# Expanded training dataset with more diverse examples\n",
    "train_data = pd.DataFrame({\n",
    "    \"Description\": [\n",
    "        \"amazon order\", \"flipkart shopping\", \"bought clothes online\", \"online shopping on myntra\",\n",
    "        \"grocery store\", \"supermarket purchase\", \"bought vegetables\", \"dairy milk and eggs\",\n",
    "        \"mcdonalds meal\", \"starbucks coffee\", \"lunch at cafe\", \"dinner at restaurant\",\n",
    "        \"uber ride\", \"bus ticket\", \"flight travel\", \"train journey\",\n",
    "        \"fuel station\", \"petrol pump\", \"diesel topup\", \"filled fuel at shell\",\n",
    "        \"netflix subscription\", \"movie streaming\", \"watched movie online\", \"disney+ subscription\",\n",
    "        \"electricity bill\", \"wifi recharge\", \"internet service\", \"phone bill payment\"\n",
    "    ],\n",
    "    \"Category\": [\n",
    "        \"Shopping\", \"Shopping\", \"Shopping\", \"Shopping\",\n",
    "        \"Groceries\", \"Groceries\", \"Groceries\", \"Groceries\",\n",
    "        \"Food & Dining\", \"Food & Dining\", \"Food & Dining\", \"Food & Dining\",\n",
    "        \"Transportation\", \"Transportation\", \"Transportation\", \"Transportation\",\n",
    "        \"Fuel\", \"Fuel\", \"Fuel\", \"Fuel\",\n",
    "        \"Entertainment\", \"Entertainment\", \"Entertainment\", \"Entertainment\",\n",
    "        \"Utilities\", \"Utilities\", \"Utilities\", \"Utilities\"\n",
    "    ]\n",
    "})\n",
    "\n",
    "# TF-IDF Vectorization\n",
    "vectorizer = TfidfVectorizer()\n",
    "X_train = vectorizer.fit_transform(train_data['Description'])\n",
    "y_train = train_data['Category']\n",
    "\n",
    "# KNN Classifier\n",
    "knn = KNeighborsClassifier(n_neighbors=3, metric='cosine')\n",
    "knn.fit(X_train, y_train)\n",
    "\n",
    "# Prediction function with confidence threshold\n",
    "def predict_category(description, threshold=0.4):\n",
    "    X_test = vectorizer.transform([description])\n",
    "    distances, indices = knn.kneighbors(X_test, return_distance=True)\n",
    "\n",
    "    confidences = 1 - distances[0]  # Convert distance to similarity\n",
    "    best_confidence = confidences[0]\n",
    "\n",
    "    if best_confidence < threshold:\n",
    "        return \"others\"\n",
    "    \n",
    "    return y_train.iloc[indices[0][0]]\n",
    "\n",
    "# Test examples\n",
    "test_descriptions = [\n",
    "    \"ordered something from amazon\",\n",
    "    \"recharged my phone\",\n",
    "    \"watched something on disney+\",\n",
    "    \"refilled petrol \",\n",
    "    \"bought eggs\",\n",
    "    \"invested in stocks\",  # not in training -> should be 'Unknown'\n",
    "    \"paid car insurance\"   # not in training -> should be 'Unknown'\n",
    "]\n",
    "\n",
    "# Predict and print results\n",
    "for desc in test_descriptions:\n",
    "    print(f\"{desc} => {predict_category(desc)}\")\n"
   ]
  }
 ],
 "metadata": {
  "kernelspec": {
   "display_name": "Python 3",
   "language": "python",
   "name": "python3"
  },
  "language_info": {
   "codemirror_mode": {
    "name": "ipython",
    "version": 3
   },
   "file_extension": ".py",
   "mimetype": "text/x-python",
   "name": "python",
   "nbconvert_exporter": "python",
   "pygments_lexer": "ipython3",
   "version": "3.11.5"
  }
 },
 "nbformat": 4,
 "nbformat_minor": 2
}
