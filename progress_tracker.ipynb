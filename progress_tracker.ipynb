{
 "cells": [
  {
   "cell_type": "code",
   "execution_count": 11,
   "metadata": {},
   "outputs": [
    {
     "name": "stdout",
     "output_type": "stream",
     "text": [
      "\n",
      "🎯 Monthly savings needed to reach ₹10000 by December: ₹1111.11\n",
      "\n",
      "📊 Savings Status Report:\n",
      "    Month  Actual Spending  Total Amount  Actual Savings          Status\n",
      "    April            18935         22792            3857      ✅ On Track\n",
      "      May             7254          9548            2294      ✅ On Track\n",
      "September            12899         13358             459 ⚠️ Below Target\n",
      " December            14042         13010           -1032 ⚠️ Below Target\n",
      "  October             5252          6688            1436      ✅ On Track\n",
      "     July             7580          6578           -1002 ⚠️ Below Target\n",
      " December            15114         16740            1626      ✅ On Track\n",
      "     July             9495          8740            -755 ⚠️ Below Target\n",
      "September             5956          8939            2983      ✅ On Track\n",
      "  October            12862         18609            5747      ✅ On Track\n",
      "     July             4389          6844            2455      ✅ On Track\n",
      "   August             6285          7899            1614      ✅ On Track\n",
      "   August            14141         15736            1595      ✅ On Track\n",
      "September            20146         19943            -203 ⚠️ Below Target\n",
      " December            13552         12534           -1018 ⚠️ Below Target\n",
      "   August            18193         22297            4104      ✅ On Track\n",
      "  October             8365          9043             678 ⚠️ Below Target\n",
      " November            13511         14035             524 ⚠️ Below Target\n",
      "  October            15832         21049            5217      ✅ On Track\n",
      "     June             4936          8845            3909      ✅ On Track\n",
      "  October            14310         17580            3270      ✅ On Track\n",
      "    April            13104         16862            3758      ✅ On Track\n",
      "   August            15200         17339            2139      ✅ On Track\n"
     ]
    }
   ],
   "source": [
    "import pandas as pd\n",
    "\n",
    "# Load the dataset\n",
    "df = pd.read_csv(\"Budget_Spending_Data_Modified5.csv\")\n",
    "\n",
    "# Convert month name to number if needed\n",
    "if df[\"Month\"].dtype == object:\n",
    "    df[\"Month\"] = pd.to_datetime(df[\"Month\"], format='%b').dt.month\n",
    "\n",
    "\n",
    "# USER INPUTS\n",
    "goal_amount = 10000  # User wants to save ₹10,000\n",
    "goal_year = 2024     # Target year\n",
    "current_year = 2024\n",
    "current_month = 4    # April\n",
    "goal_month = 12      # December\n",
    "\n",
    "# Calculate number of months and required monthly saving\n",
    "months_left = goal_month - current_month + 1\n",
    "monthly_saving_needed = goal_amount / months_left\n",
    "print(f\"\\n🎯 Monthly savings needed to reach ₹{goal_amount} by December: ₹{monthly_saving_needed:.2f}\")\n",
    "\n",
    "# Filter dataset for relevant year and months\n",
    "filtered_df = df[\n",
    "    (df[\"Year\"] == current_year) &\n",
    "    (df[\"Month\"] >= current_month) &\n",
    "    (df[\"Month\"] <= goal_month)\n",
    "].copy()\n",
    "\n",
    "# Check if data exists\n",
    "if filtered_df.empty:\n",
    "    print(\"\\n⚠️ No matching data found for the selected months and year. Please check the dataset.\")\n",
    "else:\n",
    "    # Calculate actual savings\n",
    "    filtered_df[\"Actual Savings\"] = filtered_df[\"Total Amount\"] - filtered_df[\"Actual Spending\"]\n",
    "\n",
    "    # Add status\n",
    "    filtered_df[\"Status\"] = filtered_df[\"Actual Savings\"].apply(\n",
    "        lambda x: \"✅ On Track\" if x >= monthly_saving_needed else \"⚠️ Below Target\"\n",
    "    )\n",
    "\n",
    "    # Optional: convert month number to name\n",
    "    filtered_df[\"Month\"] = filtered_df[\"Month\"].apply(lambda x: pd.to_datetime(f'{goal_year}-{x}-01').strftime('%B'))\n",
    "\n",
    "    # Show results\n",
    "    print(\"\\n📊 Savings Status Report:\")\n",
    "    print(filtered_df[[\"Month\", \"Actual Spending\", \"Total Amount\", \"Actual Savings\", \"Status\"]].to_string(index=False))\n"
   ]
  }
 ],
 "metadata": {
  "kernelspec": {
   "display_name": "Python 3",
   "language": "python",
   "name": "python3"
  },
  "language_info": {
   "codemirror_mode": {
    "name": "ipython",
    "version": 3
   },
   "file_extension": ".py",
   "mimetype": "text/x-python",
   "name": "python",
   "nbconvert_exporter": "python",
   "pygments_lexer": "ipython3",
   "version": "3.11.5"
  }
 },
 "nbformat": 4,
 "nbformat_minor": 2
}
